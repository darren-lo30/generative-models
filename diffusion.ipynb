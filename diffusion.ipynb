{
 "cells": [
  {
   "cell_type": "code",
   "execution_count": null,
   "metadata": {},
   "outputs": [],
   "source": [
    "%load_ext autoreload"
   ]
  },
  {
   "cell_type": "code",
   "execution_count": null,
   "metadata": {},
   "outputs": [],
   "source": [
    "%autoreload 2"
   ]
  },
  {
   "cell_type": "code",
   "execution_count": null,
   "metadata": {},
   "outputs": [],
   "source": [
    "from data import load_cifar_10, load_mnist\n",
    "from torchvision import transforms\n",
    "import torch\n",
    "train_iter, valid_iter = load_mnist(valid_ratio=0.1)\n",
    "# train_iter, valid_iter = load_cifar_10(batch_size=256, valid_ratio=0.9)\n",
    "# print(model)"
   ]
  },
  {
   "cell_type": "code",
   "execution_count": null,
   "metadata": {},
   "outputs": [],
   "source": [
    "from utils import visualize_out\n",
    "from torchvision import transforms\n",
    "import matplotlib as plt\n",
    "from utils import to_pil\n",
    "\n",
    "imgs = to_pil(next(iter(train_iter))[0][0: 10])\n",
    "visualize_out(imgs, cmap=None)"
   ]
  },
  {
   "cell_type": "code",
   "execution_count": null,
   "metadata": {},
   "outputs": [],
   "source": [
    "from utils import get_device\n",
    "min_alpha = 1 - 0.02\n",
    "max_alpha = 1 - 10**-4\n",
    "num_steps = 1000\n",
    "num_epochs = 20\n",
    "alpha_schedule = torch.linspace(max_alpha, min_alpha, num_steps).to(device=get_device())"
   ]
  },
  {
   "cell_type": "code",
   "execution_count": null,
   "metadata": {},
   "outputs": [],
   "source": [
    "from unet import UNet\n",
    "from diffusion import DiffusionModel\n",
    "model = UNet(img_channels=1)\n",
    "min_beta=10**-4\n",
    "max_beta=0.02\n",
    "diff_model = DiffusionModel(model, alpha_schedule)"
   ]
  },
  {
   "cell_type": "code",
   "execution_count": null,
   "metadata": {},
   "outputs": [],
   "source": [
    "lr = 0.001\n",
    "optimizer = torch.optim.Adam(diff_model.parameters(), lr)"
   ]
  },
  {
   "cell_type": "code",
   "execution_count": null,
   "metadata": {},
   "outputs": [],
   "source": [
    "from diffusion import train_diffusion\n",
    "\n",
    "train_diffusion(diff_model, optimizer, train_iter, valid_iter, num_epochs)"
   ]
  },
  {
   "cell_type": "code",
   "execution_count": null,
   "metadata": {},
   "outputs": [],
   "source": [
    "imgs = diff_model.sample_x0(30)\n",
    "visualize_out(to_pil(imgs))\n"
   ]
  }
 ],
 "metadata": {
  "kernelspec": {
   "display_name": "Python 3",
   "language": "python",
   "name": "python3"
  },
  "language_info": {
   "codemirror_mode": {
    "name": "ipython",
    "version": 3
   },
   "file_extension": ".py",
   "mimetype": "text/x-python",
   "name": "python",
   "nbconvert_exporter": "python",
   "pygments_lexer": "ipython3",
   "version": "3.8.10"
  }
 },
 "nbformat": 4,
 "nbformat_minor": 2
}
